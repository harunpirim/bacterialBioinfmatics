{
 "cells": [
  {
   "cell_type": "code",
   "execution_count": 1,
   "metadata": {},
   "outputs": [],
   "source": [
    "import json\n",
    "\n",
    "jfile = \"data\\\\new_data\\\\uniprotkb_taxonomy_id_237_2023_07_09.json\"\n",
    "ffile = \"data\\\\new_data\\\\uniprotkb_taxonomy_id_237_2023_07_08.fasta\"\n",
    "\n",
    "ofile = \"data\\\\new_data\\\\train_proteins.json\"\n",
    "\n",
    "with open(jfile, 'r') as file:\n",
    "        data = json.load(file)\n",
    "        results = data[\"results\"]"
   ]
  },
  {
   "cell_type": "code",
   "execution_count": 7,
   "metadata": {},
   "outputs": [
    {
     "name": "stdout",
     "output_type": "stream",
     "text": [
      "46200\n"
     ]
    }
   ],
   "source": [
    "new_results = []\n",
    "for result in results:\n",
    "    id = result[\"primaryAccession\"]\n",
    "    score = str(result[\"annotationScore\"])\n",
    "    if \"3\" in score or \"4\" in score or \"5\" in score:\n",
    "        new_results.append(result)\n",
    "    \n",
    "print(len(new_results))"
   ]
  },
  {
   "cell_type": "code",
   "execution_count": 11,
   "metadata": {},
   "outputs": [],
   "source": [
    "with open(ofile, 'w') as json_file:\n",
    "        json.dump({\"results\" : new_results}, json_file, indent=4)"
   ]
  },
  {
   "cell_type": "code",
   "execution_count": 8,
   "metadata": {},
   "outputs": [],
   "source": [
    "import json\n",
    "ofile = \"data\\\\new_data\\\\train_proteins.json\"\n",
    "\n",
    "with open(ofile, 'r') as file:\n",
    "        data = json.load(file)\n",
    "        new_results = data[\"results\"]"
   ]
  },
  {
   "cell_type": "code",
   "execution_count": 9,
   "metadata": {},
   "outputs": [
    {
     "name": "stdout",
     "output_type": "stream",
     "text": [
      "46166\n"
     ]
    }
   ],
   "source": [
    "final_results = []\n",
    "for result in new_results:\n",
    "    id = result[\"primaryAccession\"]\n",
    "    seq = str(result[\"sequence\"][\"value\"])\n",
    "    if not (\"X\" in seq or \"x\" in seq):\n",
    "        final_results.append(result)\n",
    "    \n",
    "print(len(final_results))"
   ]
  },
  {
   "cell_type": "code",
   "execution_count": 10,
   "metadata": {},
   "outputs": [],
   "source": [
    "with open(ofile, 'w') as json_file:\n",
    "        json.dump({\"results\" : final_results}, json_file, indent=4)"
   ]
  }
 ],
 "metadata": {
  "kernelspec": {
   "display_name": "Python 3",
   "language": "python",
   "name": "python3"
  },
  "language_info": {
   "codemirror_mode": {
    "name": "ipython",
    "version": 3
   },
   "file_extension": ".py",
   "mimetype": "text/x-python",
   "name": "python",
   "nbconvert_exporter": "python",
   "pygments_lexer": "ipython3",
   "version": "3.11.2"
  },
  "orig_nbformat": 4
 },
 "nbformat": 4,
 "nbformat_minor": 2
}
