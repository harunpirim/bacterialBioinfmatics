{
 "cells": [
  {
   "cell_type": "code",
   "execution_count": 1,
   "metadata": {},
   "outputs": [],
   "source": [
    "import json\n",
    "\n",
    "json_raw_file = \"data\\\\train\\\\uniprotkb_taxonomy_id_237_2023_07_09.json\"\n",
    "fasta_raw_file = \"data\\\\train\\\\uniprotkb_taxonomy_id_237_2023_07_08.fasta\"\n",
    "\n",
    "json_raw_filtered_file = \"data\\\\train\\\\train_proteins.json\"\n",
    "\n",
    "with open(json_raw_file, 'r') as file:\n",
    "        data = json.load(file)\n",
    "        results = data[\"results\"]"
   ]
  },
  {
   "cell_type": "code",
   "execution_count": 2,
   "metadata": {},
   "outputs": [
    {
     "name": "stdout",
     "output_type": "stream",
     "text": [
      "46200\n"
     ]
    }
   ],
   "source": [
    "anno_results = []\n",
    "for result in results:\n",
    "    id = result[\"primaryAccession\"]\n",
    "    score = str(result[\"annotationScore\"])\n",
    "    if \"3\" in score or \"4\" in score or \"5\" in score:\n",
    "        anno_results.append(result)\n",
    "    \n",
    "print(len(anno_results))"
   ]
  },
  {
   "cell_type": "code",
   "execution_count": 1,
   "metadata": {},
   "outputs": [
    {
     "ename": "NameError",
     "evalue": "name 'json_raw_filtered_file' is not defined",
     "output_type": "error",
     "traceback": [
      "\u001b[1;31m---------------------------------------------------------------------------\u001b[0m",
      "\u001b[1;31mNameError\u001b[0m                                 Traceback (most recent call last)",
      "Cell \u001b[1;32mIn[1], line 1\u001b[0m\n\u001b[1;32m----> 1\u001b[0m \u001b[39mwith\u001b[39;00m \u001b[39mopen\u001b[39m(json_raw_filtered_file, \u001b[39m'\u001b[39m\u001b[39mw\u001b[39m\u001b[39m'\u001b[39m) \u001b[39mas\u001b[39;00m json_file:\n\u001b[0;32m      2\u001b[0m         json\u001b[39m.\u001b[39mdump({\u001b[39m\"\u001b[39m\u001b[39mresults\u001b[39m\u001b[39m\"\u001b[39m : anno_results}, json_file, indent\u001b[39m=\u001b[39m\u001b[39m4\u001b[39m)\n",
      "\u001b[1;31mNameError\u001b[0m: name 'json_raw_filtered_file' is not defined"
     ]
    }
   ],
   "source": [
    "with open(json_raw_filtered_file, 'w') as json_file:\n",
    "        json.dump({\"results\" : anno_results}, json_file, indent=4)"
   ]
  },
  {
   "cell_type": "code",
   "execution_count": 3,
   "metadata": {},
   "outputs": [],
   "source": [
    "import json\n",
    "json_raw_filtered_file = \"data\\\\train\\\\train_proteins.json\"\n",
    "\n",
    "with open(json_raw_filtered_file, 'r') as file:\n",
    "        data = json.load(file)\n",
    "        anno_results = data[\"results\"]"
   ]
  },
  {
   "cell_type": "code",
   "execution_count": 4,
   "metadata": {},
   "outputs": [
    {
     "name": "stdout",
     "output_type": "stream",
     "text": [
      "46166\n"
     ]
    }
   ],
   "source": [
    "seq_results = []\n",
    "for result in anno_results:\n",
    "    id = result[\"primaryAccession\"]\n",
    "    seq = str(result[\"sequence\"][\"value\"])\n",
    "    if not (\"X\" in seq or \"x\" in seq):\n",
    "        seq_results.append(result)\n",
    "    \n",
    "print(len(seq_results))"
   ]
  },
  {
   "cell_type": "code",
   "execution_count": null,
   "metadata": {},
   "outputs": [],
   "source": [
    "with open(json_raw_filtered_file, 'w') as json_file:\n",
    "        json.dump({\"results\" : seq_results}, json_file, indent=4)"
   ]
  },
  {
   "cell_type": "markdown",
   "metadata": {},
   "source": [
    "select proteins based on whether they have the go terms from go_counting"
   ]
  },
  {
   "cell_type": "code",
   "execution_count": 1,
   "metadata": {},
   "outputs": [],
   "source": [
    "import json\n",
    "\n",
    "info_file = \"data\\\\train\\\\train_protein_information.json\"\n",
    "\n",
    "with open(info_file, 'r') as file:\n",
    "        protein_info = json.load(file)"
   ]
  },
  {
   "cell_type": "code",
   "execution_count": 5,
   "metadata": {},
   "outputs": [
    {
     "name": "stdout",
     "output_type": "stream",
     "text": [
      "32822\n"
     ]
    }
   ],
   "source": [
    "go_list = [\n",
    "\"GO:0000049\",\n",
    "\"GO:0000287\",\n",
    "\"GO:0003677\",\n",
    "\"GO:0003723\",\n",
    "\"GO:0005506\",\n",
    "\"GO:0005524\",\n",
    "\"GO:0005525\",\n",
    "\"GO:0008270\",\n",
    "\"GO:0016887\",\n",
    "\"GO:0019843\",\n",
    "\"GO:0030170\",\n",
    "\"GO:0046872\",\n",
    "\"GO:0050661\",\n",
    "\"GO:0051287\",\n",
    "\"GO:0051539\",\n",
    "]\n",
    "\n",
    "go_results = []\n",
    "for result in seq_results:\n",
    "    id = result[\"primaryAccession\"]\n",
    "    flag = False\n",
    "    for term in protein_info[id][\"go_terms\"]:\n",
    "        if term[0] in go_list:\n",
    "            flag = True\n",
    "    if flag == True:\n",
    "        go_results.append(result)\n",
    "            \n",
    "    \n",
    "print(len(go_results))"
   ]
  },
  {
   "cell_type": "code",
   "execution_count": 6,
   "metadata": {},
   "outputs": [],
   "source": [
    "with open(json_raw_filtered_file, 'w') as json_file:\n",
    "        json.dump({\"results\" : go_results}, json_file, indent=4)"
   ]
  },
  {
   "cell_type": "markdown",
   "metadata": {},
   "source": [
    "Create fasta for filtered proteins"
   ]
  },
  {
   "cell_type": "code",
   "execution_count": 7,
   "metadata": {},
   "outputs": [],
   "source": [
    "import json\n",
    "from Bio import SeqIO\n",
    "\n",
    "json_raw_filtered_file = \"data\\\\train\\\\train_proteins.json\"\n",
    "fasta_raw_file = \"data\\\\train\\\\uniprotkb_taxonomy_id_237_2023_07_08.fasta\"\n",
    "fasta_out_file = \"data\\\\train\\\\train_proteins.fasta\"\n",
    "\n",
    "with open(json_raw_filtered_file, 'r') as file:\n",
    "        data = json.load(file)\n",
    "        json_results = data[\"results\"]\n",
    "\n",
    "in_fasta_proteins = []\n",
    "for record in SeqIO.parse(fasta_raw_file, \"fasta\"):\n",
    "    in_fasta_proteins.append(record)\n"
   ]
  },
  {
   "cell_type": "code",
   "execution_count": 8,
   "metadata": {},
   "outputs": [
    {
     "name": "stdout",
     "output_type": "stream",
     "text": [
      "32822\n"
     ]
    }
   ],
   "source": [
    "protein_ids = []\n",
    "for result in json_results:\n",
    "    id = result[\"primaryAccession\"]\n",
    "    protein_ids.append(id)\n",
    "\n",
    "out_fasta_proteins = []\n",
    "for protein in in_fasta_proteins:\n",
    "    for id in protein_ids:\n",
    "        if id in protein.id:\n",
    "            out_fasta_proteins.append(protein)\n",
    "\n",
    "print(len(out_fasta_proteins))"
   ]
  },
  {
   "cell_type": "code",
   "execution_count": 9,
   "metadata": {},
   "outputs": [],
   "source": [
    "with open(fasta_out_file, \"w\") as output_handle:\n",
    "    SeqIO.write(out_fasta_proteins, output_handle, \"fasta\")"
   ]
  }
 ],
 "metadata": {
  "kernelspec": {
   "display_name": "Python 3",
   "language": "python",
   "name": "python3"
  },
  "language_info": {
   "codemirror_mode": {
    "name": "ipython",
    "version": 3
   },
   "file_extension": ".py",
   "mimetype": "text/x-python",
   "name": "python",
   "nbconvert_exporter": "python",
   "pygments_lexer": "ipython3",
   "version": "3.11.2"
  },
  "orig_nbformat": 4
 },
 "nbformat": 4,
 "nbformat_minor": 2
}
