{
 "cells": [
  {
   "cell_type": "markdown",
   "metadata": {},
   "source": [
    "counting total go term apperances"
   ]
  },
  {
   "cell_type": "code",
   "execution_count": null,
   "metadata": {},
   "outputs": [],
   "source": [
    "import json, csv\n",
    "\n",
    "train_file = \"data\\\\train\\\\train_protein_information.json\"\n",
    "test_file = \"data\\\\test\\\\test_protein_information.json\"\n",
    "out_file = \"total_go_terms.csv\"\n",
    "\n",
    "go_dict = {}"
   ]
  },
  {
   "cell_type": "code",
   "execution_count": null,
   "metadata": {},
   "outputs": [],
   "source": [
    "with open(test_file, 'r') as file:\n",
    "        test_results = json.load(file)\n",
    "\n",
    "with open(train_file, 'r') as file:\n",
    "        train_results = json.load(file)"
   ]
  },
  {
   "cell_type": "code",
   "execution_count": null,
   "metadata": {},
   "outputs": [],
   "source": [
    "for protein in test_results.values():\n",
    "    for term in protein[\"go_terms\"]:\n",
    "        if term[0] not in go_dict:\n",
    "            go_dict[term[0]] = 1\n",
    "        else:\n",
    "            go_dict[term[0]] += 1"
   ]
  },
  {
   "cell_type": "code",
   "execution_count": null,
   "metadata": {},
   "outputs": [],
   "source": [
    "for protein in train_results.values():\n",
    "    for term in protein[\"go_terms\"]:\n",
    "        if term[0] not in go_dict:\n",
    "            go_dict[term[0]] = 1\n",
    "        else:\n",
    "            go_dict[term[0]] += 1"
   ]
  },
  {
   "cell_type": "code",
   "execution_count": null,
   "metadata": {},
   "outputs": [],
   "source": [
    "# for term, freq in go_dict.items():\n",
    "#     print(f\"{term} - {freq}\")"
   ]
  },
  {
   "cell_type": "code",
   "execution_count": null,
   "metadata": {},
   "outputs": [],
   "source": [
    "rows = []\n",
    "for term, freq in go_dict.items():\n",
    "    rows.append([term, freq])\n",
    "\n",
    "with open(out_file, \"w\", newline='') as file:\n",
    "        writer = csv.writer(file)\n",
    "        writer.writerows(rows)"
   ]
  }
 ],
 "metadata": {
  "kernelspec": {
   "display_name": "Python 3",
   "language": "python",
   "name": "python3"
  },
  "language_info": {
   "codemirror_mode": {
    "name": "ipython",
    "version": 3
   },
   "file_extension": ".py",
   "mimetype": "text/x-python",
   "name": "python",
   "nbconvert_exporter": "python",
   "pygments_lexer": "ipython3",
   "version": "3.11.2"
  },
  "orig_nbformat": 4
 },
 "nbformat": 4,
 "nbformat_minor": 2
}
