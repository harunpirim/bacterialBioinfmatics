{
 "cells": [
  {
   "cell_type": "code",
   "execution_count": 1,
   "metadata": {},
   "outputs": [],
   "source": [
    "import matplotlib.pyplot as plt\n",
    "import numpy as np\n",
    "import pandas as pd\n",
    "import seaborn as sns\n",
    "import tensorflow as tf\n",
    "from tensorflow import keras\n",
    "from keras import layers\n",
    "from sklearn.model_selection import cross_val_score, KFold, cross_val_predict\n",
    "from sklearn.linear_model import LogisticRegression\n",
    "from sklearn.multiclass import OneVsRestClassifier\n",
    "from sklearn.ensemble import RandomForestClassifier\n",
    "from sklearn.neural_network import MLPClassifier\n",
    "from sklearn.metrics import accuracy_score, precision_score, recall_score, f1_score\n",
    "from sklearn.preprocessing import StandardScaler\n",
    "\n"
   ]
  },
  {
   "cell_type": "code",
   "execution_count": 2,
   "metadata": {},
   "outputs": [],
   "source": [
    "train_file = \"data\\\\training_data.tsv\"\n",
    "hypotheticals_file = \"data\\\\hypothetical_data.tsv\"\n",
    "\n",
    "train_dataset = pd.read_csv(train_file, na_values='?', sep=\"\\t\")\n",
    "hypotheticals_dataset = pd.read_csv(hypotheticals_file, na_values='?', sep=\"\\t\")\n",
    "\n",
    "train_df = train_dataset.copy()\n",
    "hypo_df = hypotheticals_dataset.copy()"
   ]
  },
  {
   "cell_type": "code",
   "execution_count": 3,
   "metadata": {},
   "outputs": [],
   "source": [
    "# Preparing the data\n",
    "train_df = train_df.iloc[:, 2:]  # Remove the first two columns (ID, name)\n",
    "hypo_df = hypo_df.iloc[:, 2:]\n",
    "\n",
    "# Split the data into features and labels\n",
    "X = train_df.iloc[:, :-15]  # Features\n",
    "y = train_df.iloc[:, -15:]  # Labels\n",
    "\n",
    "# Preparing the data for making predictions on hypo_df\n",
    "X_hypo = hypo_df.iloc[:, :-15]  # Features\n",
    "y_hypo = hypo_df.iloc[:, -15:]  # Labels\n",
    "\n",
    "# Create a KFold cross-validator with 10 folds\n",
    "kf = KFold(n_splits=10, random_state=0, shuffle=True)\n"
   ]
  },
  {
   "cell_type": "markdown",
   "metadata": {},
   "source": [
    "NEW"
   ]
  },
  {
   "cell_type": "code",
   "execution_count": 4,
   "metadata": {},
   "outputs": [],
   "source": [
    "# Initialize lists to store evaluation metrics for each fold\n",
    "accuracy_scores = []\n",
    "f1_scores = []\n",
    "\n",
    "# Standardize the features for better performance of MLP\n",
    "scaler = StandardScaler()\n",
    "X_scaled = scaler.fit_transform(X)\n",
    "X_hypo_scaled = scaler.transform(X_hypo)\n",
    "\n",
    "for train_index, test_index in kf.split(X_scaled):\n",
    "    X_train, X_val = X.iloc[train_index], X.iloc[test_index]\n",
    "    y_train, y_val = y.iloc[train_index], y.iloc[test_index]\n",
    "\n",
    "    \n",
    "    # Example: Using MLP as the classifier\n",
    "    mlp_classifier = MLPClassifier(hidden_layer_sizes=(100,), max_iter=200, random_state=0)\n",
    "    mlp_history = mlp_classifier.fit(X_train, y_train)\n",
    "    \n",
    "    # Make predictions on the validation set\n",
    "    y_pred = mlp_classifier.predict(X_val)\n",
    "    \n",
    "    # Evaluate the model\n",
    "    accuracy = accuracy_score(y_val, y_pred)\n",
    "    f1 = f1_score(y_val, y_pred, average='micro')  # Micro-F1 is suitable for multi-label tasks\n",
    "    \n",
    "    accuracy_scores.append(accuracy)\n",
    "    f1_scores.append(f1)\n",
    "\n",
    "# Calculate the average evaluation metrics over all folds\n",
    "avg_accuracy = np.mean(accuracy_scores)\n",
    "avg_f1 = np.mean(f1_scores)\n",
    "\n",
    "print(\"Average Accuracy:\", avg_accuracy)\n",
    "print(\"Average F1-score:\", avg_f1)\n"
   ]
  },
  {
   "cell_type": "code",
   "execution_count": null,
   "metadata": {},
   "outputs": [],
   "source": [
    "# Make predictions on the new data\n",
    "mlp_predictions = mlp_classifier.predict_proba(X_hypo_scaled)\n",
    "\n",
    "# Convert the predictions to a DataFrame\n",
    "mlp_predictions_df = pd.DataFrame(mlp_predictions, columns=y.columns)\n",
    "\n",
    "# Display the predictions for new proteins\n",
    "print(\"MLP Predictions for New Proteins:\")\n",
    "print(mlp_predictions_df)\n"
   ]
  },
  {
   "cell_type": "code",
   "execution_count": null,
   "metadata": {},
   "outputs": [],
   "source": [
    "# # Define a custom callback to store training history\n",
    "# class LossHistory:\n",
    "#     def __init__(self, model_name):\n",
    "#         self.model_name = model_name\n",
    "#         self.losses = []\n",
    "#         self.val_losses = []\n",
    "\n",
    "# training_histories = []\n",
    "# model_names = ['Logistic Regression', 'Random Forest', 'MLP Neural Network']"
   ]
  },
  {
   "cell_type": "markdown",
   "metadata": {},
   "source": [
    "Logistic Regression"
   ]
  },
  {
   "cell_type": "code",
   "execution_count": null,
   "metadata": {},
   "outputs": [],
   "source": [
    "# # Create the Logistic Regression model with One-vs-Rest strategy\n",
    "# logreg_model = OneVsRestClassifier(LogisticRegression(max_iter=1000))\n",
    "\n",
    "# # Perform cross-validation and make predictions\n",
    "# y_pred_logreg = cross_val_predict(logreg_model, X_scaled, y, cv=kf)\n",
    "\n",
    "# # Evaluate the model\n",
    "# accuracy_logreg = accuracy_score(y, y_pred_logreg)\n",
    "# precision_logreg = precision_score(y, y_pred_logreg, average='micro')\n",
    "# recall_logreg = recall_score(y, y_pred_logreg, average='micro')\n",
    "# f1_score_logreg = f1_score(y, y_pred_logreg, average='micro')\n",
    "\n",
    "# print(\"Logistic Regression Results:\")\n",
    "# print(f\"Accuracy: {accuracy_logreg}\")\n",
    "# print(f\"Precision: {precision_logreg}\")\n",
    "# print(f\"Recall: {recall_logreg}\")\n",
    "# print(f\"F1-score: {f1_score_logreg}\")\n"
   ]
  },
  {
   "cell_type": "code",
   "execution_count": null,
   "metadata": {},
   "outputs": [],
   "source": [
    "# # Plot the training process for the Logistic Regression model\n",
    "# plt.figure(figsize=(8, 6))\n",
    "# epochs = range(1, len(logreg_loss_history.losses) + 1)\n",
    "# plt.plot(epochs, logreg_loss_history.losses, label='Training Loss')\n",
    "# plt.plot(epochs, logreg_loss_history.val_losses, label='Validation Loss')\n",
    "# plt.title('Training Process of Logistic Regression')\n",
    "# plt.xlabel('Epoch')\n",
    "# plt.ylabel('Loss')\n",
    "# plt.legend()\n",
    "# plt.grid(True)\n",
    "# plt.tight_layout()\n",
    "# plt.show()"
   ]
  },
  {
   "cell_type": "markdown",
   "metadata": {},
   "source": [
    "Random Forest"
   ]
  },
  {
   "cell_type": "code",
   "execution_count": null,
   "metadata": {},
   "outputs": [],
   "source": [
    "# # Create the Random Forest model\n",
    "# rf_model = RandomForestClassifier(n_estimators=100, random_state=0)\n",
    "\n",
    "# # Perform cross-validation and make predictions\n",
    "# rf_loss_history = LossHistory('Random Forest')\n",
    "# y_pred_rf = cross_val_predict(rf_model, X, y, cv=kf)\n",
    "\n",
    "# # Evaluate the model\n",
    "# accuracy_rf = accuracy_score(y, y_pred_rf)\n",
    "# precision_rf = precision_score(y, y_pred_rf, average='micro')\n",
    "# recall_rf = recall_score(y, y_pred_rf, average='micro')\n",
    "# f1_score_rf = f1_score(y, y_pred_rf, average='micro')\n",
    "\n",
    "# training_histories.append(rf_loss_history)\n",
    "\n",
    "# print(\"Random Forest Results:\")\n",
    "# print(f\"Accuracy: {accuracy_rf}\")\n",
    "# print(f\"Precision: {precision_rf}\")\n",
    "# print(f\"Recall: {recall_rf}\")\n",
    "# print(f\"F1-score: {f1_score_rf}\")\n"
   ]
  },
  {
   "cell_type": "code",
   "execution_count": null,
   "metadata": {},
   "outputs": [],
   "source": [
    "# # Plot the training process for the Random Forest model\n",
    "# plt.figure(figsize=(8, 6))\n",
    "# epochs = range(1, len(rf_loss_history.losses) + 1)\n",
    "# plt.plot(epochs, rf_loss_history.losses, label='Training Loss')\n",
    "# plt.plot(epochs, rf_loss_history.val_losses, label='Validation Loss')\n",
    "# plt.title('Training Process of Random Forest')\n",
    "# plt.xlabel('Epoch')\n",
    "# plt.ylabel('Loss')\n",
    "# plt.legend()\n",
    "# plt.grid(True)\n",
    "# plt.tight_layout()\n",
    "# plt.show()"
   ]
  },
  {
   "cell_type": "markdown",
   "metadata": {},
   "source": [
    "Multi-layer Perception"
   ]
  },
  {
   "cell_type": "code",
   "execution_count": null,
   "metadata": {},
   "outputs": [],
   "source": [
    "# # Create the MLP model\n",
    "# mlp_model = MLPClassifier(hidden_layer_sizes=(50,), max_iter=1000, random_state=0)\n",
    "\n",
    "# # Perform cross-validation and make predictions\n",
    "# mlp_loss_history = LossHistory('MLP Neural Network')\n",
    "# y_pred_mlp = cross_val_predict(mlp_model, X_scaled, y, cv=kf)\n",
    "\n",
    "# # Evaluate the model\n",
    "# accuracy_mlp = accuracy_score(y, y_pred_mlp)\n",
    "# precision_mlp = precision_score(y, y_pred_mlp, average='micro')\n",
    "# recall_mlp = recall_score(y, y_pred_mlp, average='micro')\n",
    "# f1_score_mlp = f1_score(y, y_pred_mlp, average='micro')\n",
    "\n",
    "# training_histories.append(mlp_loss_history)\n",
    "\n",
    "# print(\"MLP Neural Network Results:\")\n",
    "# print(f\"Accuracy: {accuracy_mlp}\")\n",
    "# print(f\"Precision: {precision_mlp}\")\n",
    "# print(f\"Recall: {recall_mlp}\")\n",
    "# print(f\"F1-score: {f1_score_mlp}\")\n"
   ]
  },
  {
   "cell_type": "code",
   "execution_count": null,
   "metadata": {},
   "outputs": [],
   "source": [
    "# # Plot the training process for the MLP model\n",
    "# plt.figure(figsize=(8, 6))\n",
    "# epochs = range(1, len(mlp_loss_history.losses) + 1)\n",
    "# plt.plot(epochs, mlp_loss_history.losses, label='Training Loss')\n",
    "# plt.plot(epochs, mlp_loss_history.val_losses, label='Validation Loss')\n",
    "# plt.title('Training Process of MLP Neural Network')\n",
    "# plt.xlabel('Epoch')\n",
    "# plt.ylabel('Loss')\n",
    "# plt.legend()\n",
    "# plt.grid(True)\n",
    "# plt.tight_layout()\n",
    "# plt.show()"
   ]
  },
  {
   "cell_type": "code",
   "execution_count": null,
   "metadata": {},
   "outputs": [],
   "source": [
    "# # Plot the evaluation metrics\n",
    "# eval_df = pd.DataFrame({\n",
    "#     'Model': model_names,\n",
    "#     'Accuracy': [accuracy_logreg, accuracy_rf, accuracy_mlp],\n",
    "#     'Precision': [precision_logreg, precision_rf, precision_mlp],\n",
    "#     'Recall': [recall_logreg, recall_rf, recall_mlp],\n",
    "#     'F1-score': [f1_score_logreg, f1_score_rf, f1_score_mlp]\n",
    "# })\n",
    "\n",
    "# plt.figure(figsize=(10, 6))\n",
    "# sns.barplot(x='Model', y='Value', hue='Metric', data=pd.melt(eval_df, id_vars='Model'), palette='muted')\n",
    "# plt.title('Model Evaluation Metrics')\n",
    "# plt.xlabel('Model')\n",
    "# plt.ylabel('Value')\n",
    "# plt.legend(title='Metric', loc='upper right')\n",
    "# plt.xticks(rotation=45)\n",
    "# plt.tight_layout()\n",
    "# plt.show()"
   ]
  },
  {
   "cell_type": "code",
   "execution_count": null,
   "metadata": {},
   "outputs": [],
   "source": [
    "# # Plot the training process for each model\n",
    "# for idx, model_name in enumerate(model_names):\n",
    "#     plt.figure(figsize=(8, 6))\n",
    "#     epochs = range(1, len(training_histories[idx].losses) + 1)\n",
    "#     plt.plot(epochs, training_histories[idx].losses, label='Training Loss')\n",
    "#     plt.plot(epochs, training_histories[idx].val_losses, label='Validation Loss')\n",
    "#     plt.title(f'Training Process of {model_name}')\n",
    "#     plt.xlabel('Epoch')\n",
    "#     plt.ylabel('Loss')\n",
    "#     plt.legend()\n",
    "#     plt.grid(True)\n",
    "#     plt.tight_layout()\n",
    "#     plt.show()"
   ]
  },
  {
   "cell_type": "code",
   "execution_count": null,
   "metadata": {},
   "outputs": [],
   "source": [
    "# # Predict probabilities for the hypothetical set using each model\n",
    "# logreg_hypo_probabilities = logreg_model.predict_proba(X_hypo_scaled)\n",
    "# rf_hypo_probabilities = rf_model.predict_proba(X_hypo)\n",
    "# mlp_hypo_probabilities = mlp_model.predict_proba(X_hypo_scaled)\n",
    "\n",
    "# # Convert the probabilities into DataFrames for easier analysis\n",
    "# logreg_hypo_prob_df = pd.DataFrame(logreg_hypo_probabilities, columns=y.columns)\n",
    "# rf_hypo_prob_df = pd.DataFrame(rf_hypo_probabilities, columns=y.columns)\n",
    "# mlp_hypo_prob_df = pd.DataFrame(mlp_hypo_probabilities, columns=y.columns)\n",
    "\n",
    "# # Display the DataFrames\n",
    "# print(\"Predicted Probabilities for the Hypothetical Set - Logistic Regression:\")\n",
    "# print(logreg_hypo_prob_df)\n",
    "\n",
    "# print(\"Predicted Probabilities for the Hypothetical Set - Random Forest:\")\n",
    "# print(rf_hypo_prob_df)\n",
    "\n",
    "# print(\"Predicted Probabilities for the Hypothetical Set - MLP Neural Network:\")\n",
    "# print(mlp_hypo_prob_df)"
   ]
  }
 ],
 "metadata": {
  "kernelspec": {
   "display_name": "Python 3",
   "language": "python",
   "name": "python3"
  },
  "language_info": {
   "codemirror_mode": {
    "name": "ipython",
    "version": 3
   },
   "file_extension": ".py",
   "mimetype": "text/x-python",
   "name": "python",
   "nbconvert_exporter": "python",
   "pygments_lexer": "ipython3",
   "version": "3.11.2"
  },
  "orig_nbformat": 4,
  "polyglot_notebook": {
   "kernelInfo": {
    "defaultKernelName": "csharp",
    "items": [
     {
      "aliases": [],
      "name": "csharp"
     }
    ]
   }
  }
 },
 "nbformat": 4,
 "nbformat_minor": 2
}
