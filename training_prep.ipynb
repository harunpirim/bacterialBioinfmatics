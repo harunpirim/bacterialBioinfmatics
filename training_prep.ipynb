{
 "cells": [
  {
   "cell_type": "code",
   "execution_count": null,
   "metadata": {},
   "outputs": [],
   "source": [
    "import json\n",
    "import csv\n",
    "\n",
    "protein_info_file = \"data\\\\protein_information.json\"\n",
    "training_file = \"f_covae_training.tsv\"\n",
    "test_file = \"f_covae_test.tsv\""
   ]
  },
  {
   "cell_type": "code",
   "execution_count": null,
   "metadata": {},
   "outputs": [],
   "source": [
    "with open(protein_info_file, 'r') as file:\n",
    "    proteins_raw = json.load(file)\n",
    "\n",
    "proteins_prep = {}\n",
    "for id in proteins_raw.keys():\n",
    "    proteins_prep[id] = {}"
   ]
  },
  {
   "attachments": {},
   "cell_type": "markdown",
   "metadata": {},
   "source": [
    "Names"
   ]
  },
  {
   "cell_type": "code",
   "execution_count": null,
   "metadata": {},
   "outputs": [],
   "source": [
    "for p_id, p_data in proteins_raw.items():\n",
    "    proteins_prep[p_id][\"name\"] = p_data[\"name\"]"
   ]
  },
  {
   "attachments": {},
   "cell_type": "markdown",
   "metadata": {},
   "source": [
    "GO Terms"
   ]
  },
  {
   "cell_type": "code",
   "execution_count": null,
   "metadata": {},
   "outputs": [],
   "source": [
    "go_terms = {\"mf\": [], \"cc\": [], \"bp\": []}\n",
    "for p_id, p_data in proteins_raw.items():\n",
    "    for p_term in p_data[\"go_terms\"]:\n",
    "        go_type = \"\"\n",
    "        match p_term[1][0]:\n",
    "            case \"F\": go_type = \"mf\"\n",
    "            case \"P\": go_type = \"bp\"\n",
    "            case \"C\": go_type = \"cc\"\n",
    "\n",
    "        if p_term[0] not in go_terms[go_type]:\n",
    "            go_terms[go_type].append(p_term[0])\n",
    "\n",
    "for aspect in go_terms.keys():\n",
    "    go_terms[aspect].sort()"
   ]
  },
  {
   "cell_type": "code",
   "execution_count": null,
   "metadata": {},
   "outputs": [],
   "source": [
    "for id in proteins_prep.keys():\n",
    "    proteins_prep[id][\"go_terms\"] = {}\n",
    "\n",
    "for aspect, terms in go_terms.items():\n",
    "    for p_id, p_data in proteins_raw.items():\n",
    "        p_encoded_go = [0] * len(go_terms[aspect])\n",
    "        for p_go in p_data[\"go_terms\"]:\n",
    "            if p_go[0] in terms:\n",
    "                index = terms.index(p_go[0])\n",
    "                p_encoded_go[index] = 1\n",
    "        proteins_prep[p_id][\"go_terms\"][aspect] = p_encoded_go\n"
   ]
  },
  {
   "cell_type": "code",
   "execution_count": null,
   "metadata": {},
   "outputs": [],
   "source": [
    "#test\n",
    "test_protein_terms = proteins_raw[\"A0A0X8BZN2\"][\"go_terms\"]\n",
    "for term in test_protein_terms:\n",
    "    if \"F:\" in term[1]: print(f\"F:{term[0]}: {go_terms['mf'].index(term[0])}\")\n",
    "    elif \"C:\" in term[1]: print(f\"C:{term[0]}: {go_terms['cc'].index(term[0])}\")\n",
    "    elif \"P:\" in term[1]: print(f\"P:{term[0]}: {go_terms['bp'].index(term[0])}\")\n",
    "\n",
    "print()\n",
    "for aspect in go_terms.keys():\n",
    "    c = -1\n",
    "    for num in proteins_prep[\"A0A0X8BZN2\"][\"go_terms\"][aspect]:\n",
    "        c+=1\n",
    "        if num == 1: print(c)\n",
    "    print()"
   ]
  },
  {
   "attachments": {},
   "cell_type": "markdown",
   "metadata": {},
   "source": [
    "Subcellular Location Feature"
   ]
  },
  {
   "cell_type": "code",
   "execution_count": null,
   "metadata": {},
   "outputs": [],
   "source": [
    "loc_code = {\n",
    "    \"0\": [\"Cytoplasm\", \"Cytoplasmic side\", \"Cytoplasm, nucleoid\"],\n",
    "    \"1\": [\"Cell membrane\", \"Membrane\", \"Cell inner membrane\", \"Cell outer membrane\", \"Cytoplasmic side\"],\n",
    "    \"2\": [\"Cell wall\"],\n",
    "    \"3\": [\"Secreted\"],\n",
    "    \"4\": [\"Periplasm\", \"Periplasmic side\"],\n",
    "    \"5\": [\"Cell surface\"],\n",
    "    \"6\": [\"Cell envelope\"],\n",
    "    \"7\": [\"Chlorosome\"],\n",
    "    \"8\": [\"Cellular thylakoid membrane\"],\n",
    "    \"9\": [\"Cellular chromatopore membrane\"],\n",
    "    \"10\": [\"Single-pass membrane protein\"],\n",
    "    \"11\": [\"Multi-pass membrane protein\"],\n",
    "    \"12\": [\"Peripheral membrane protein\"]\n",
    "}\n",
    "locs = {}\n",
    "for p_id, p_data in proteins_raw.items():\n",
    "    p_loc_ids = []\n",
    "    for p_loc in p_data[\"subcell_locations\"]:\n",
    "        for loc_id, loc_group in loc_code.items():\n",
    "            if p_loc in loc_group:\n",
    "                p_loc_ids.append(loc_id)\n",
    "    locs[p_id] = p_loc_ids"
   ]
  },
  {
   "cell_type": "code",
   "execution_count": null,
   "metadata": {},
   "outputs": [],
   "source": [
    "for p_id in proteins_raw.keys():\n",
    "    p_encoded_locs = [0] * 13\n",
    "    for p_loc in locs[p_id]:\n",
    "        p_encoded_locs[int(p_loc)] = 1\n",
    "    proteins_prep[p_id][\"subcell_locations\"] = p_encoded_locs"
   ]
  },
  {
   "cell_type": "code",
   "execution_count": null,
   "metadata": {},
   "outputs": [],
   "source": [
    "#test\n",
    "for loc in proteins_raw[\"A0A0X8C1K8\"][\"subcell_locations\"]:\n",
    "    print(loc)\n",
    "\n",
    "print()\n",
    "\n",
    "for loc in proteins_prep[\"A0A0X8C1K8\"][\"subcell_locations\"]:\n",
    "    print(loc)"
   ]
  },
  {
   "attachments": {},
   "cell_type": "markdown",
   "metadata": {},
   "source": [
    "Motifs (DO NOT USE) - All motifs collected, too many features. Unsure of how consensus patterns work."
   ]
  },
  {
   "cell_type": "code",
   "execution_count": null,
   "metadata": {},
   "outputs": [],
   "source": [
    "# motifs = []\n",
    "# for p_id, p_data in proteins_raw.items():\n",
    "#     for motif in p_data[\"motifs\"]:\n",
    "#         if motif not in motifs:\n",
    "#             motifs.append(motif)\n",
    "\n",
    "# motifs.sort()\n",
    "# num_motifs = len(motifs)"
   ]
  },
  {
   "cell_type": "code",
   "execution_count": null,
   "metadata": {},
   "outputs": [],
   "source": [
    "# for p_id, p_data in proteins_raw.items():\n",
    "#     p_encoded_motifs = [0] * num_motifs\n",
    "#     for p_motif in p_data[\"motifs\"]:\n",
    "#         index = motifs.index(p_motif)\n",
    "#         p_encoded_motifs[index] = 1\n",
    "#     proteins_prep[p_id][\"motifs\"] = p_encoded_motifs"
   ]
  },
  {
   "cell_type": "code",
   "execution_count": null,
   "metadata": {},
   "outputs": [],
   "source": [
    "# #test\n",
    "# test_protein_motifs = proteins_raw[\"A0A0X8BZN2\"][\"motifs\"]\n",
    "# for motif in test_protein_motifs:\n",
    "#     print(f\"{motif}: {motifs.index(motif)}\")\n",
    "# print()\n",
    "# c = -1\n",
    "# for num in proteins_prep[\"A0A0X8BZN2\"][\"motifs\"]:\n",
    "#     c+=1\n",
    "#     if num == 1: print(c)"
   ]
  },
  {
   "attachments": {},
   "cell_type": "markdown",
   "metadata": {},
   "source": [
    "Simple Biopython Features"
   ]
  },
  {
   "cell_type": "code",
   "execution_count": null,
   "metadata": {},
   "outputs": [],
   "source": [
    "biopyfeatures = [\"length\", \"m_weight\", \"instab_index\", \"isoele_point\", \"gravy\", \"sec_sruct_frac\", \"ext_coeff\"]\n",
    "for p_id, p_data in proteins_raw.items():\n",
    "    for feature in biopyfeatures:\n",
    "        proteins_prep[p_id][feature] = p_data[feature]\n"
   ]
  },
  {
   "cell_type": "code",
   "execution_count": null,
   "metadata": {},
   "outputs": [],
   "source": [
    "#test\n",
    "for feature in biopyfeatures:\n",
    "    print(proteins_raw[\"A0A0X8BZN2\"][feature])\n",
    "\n",
    "print()\n",
    "\n",
    "for feature in biopyfeatures:\n",
    "    print(proteins_prep[\"A0A0X8BZN2\"][feature])"
   ]
  },
  {
   "attachments": {},
   "cell_type": "markdown",
   "metadata": {},
   "source": [
    "Amino Count"
   ]
  },
  {
   "cell_type": "code",
   "execution_count": null,
   "metadata": {},
   "outputs": [],
   "source": [
    "for p_id, p_data in proteins_raw.items():\n",
    "    acids = []\n",
    "    for acid in p_data[\"amino_count\"].values():\n",
    "        acids.append(acid)\n",
    "    proteins_prep[p_id][\"amino_count\"] = acids"
   ]
  },
  {
   "cell_type": "code",
   "execution_count": null,
   "metadata": {},
   "outputs": [],
   "source": [
    "#test\n",
    "for acid in proteins_raw[\"A0A0X8BZN2\"][\"amino_count\"].values():\n",
    "    print(acid)\n",
    "\n",
    "print()\n",
    "\n",
    "for acid in proteins_prep[\"A0A0X8BZN2\"][\"amino_count\"]:\n",
    "    print(acid)\n"
   ]
  },
  {
   "attachments": {},
   "cell_type": "markdown",
   "metadata": {},
   "source": [
    "Split Training and Test (hypothetical proteins)"
   ]
  },
  {
   "cell_type": "code",
   "execution_count": null,
   "metadata": {},
   "outputs": [],
   "source": [
    "train_proteins = {}\n",
    "test_proteins = {}\n",
    "\n",
    "for id, data in proteins_prep.items():\n",
    "    if \"hypothetical protein\" in data[\"name\"]:\n",
    "        test_proteins[id] = data\n",
    "    else:\n",
    "        train_proteins[id] = data\n",
    "\n"
   ]
  },
  {
   "attachments": {},
   "cell_type": "markdown",
   "metadata": {},
   "source": [
    "OUTPUT"
   ]
  },
  {
   "cell_type": "code",
   "execution_count": null,
   "metadata": {},
   "outputs": [],
   "source": [
    "def output_proteins(proteins, outfile):\n",
    "    rows = []\n",
    "\n",
    "    header = [\"protein_id\"]\n",
    "    r1 = proteins[next(iter(proteins))]\n",
    "    for feature, values in r1.items():\n",
    "        if feature == \"go_terms\": continue\n",
    "        if type(values) == list:\n",
    "            for i in range(0,len(values)):\n",
    "                header.append(f\"{feature}{i}\")\n",
    "        else:\n",
    "            header.append(feature)\n",
    "    for term in go_terms[\"mf\"]:\n",
    "        header.append(term)\n",
    "    rows.append(header)\n",
    "\n",
    "\n",
    "    for p_id, p_data in proteins.items():\n",
    "        row = [p_id]\n",
    "        for feature, value in p_data.items():\n",
    "            if feature == \"go_terms\": continue\n",
    "            if type(value) == list:\n",
    "                for i in range(0,len(value)):\n",
    "                    row.append(value[i])\n",
    "            else:\n",
    "                row.append(value)\n",
    "        for value in p_data[\"go_terms\"][\"mf\"]:\n",
    "            row.append(value)\n",
    "        rows.append(row)\n",
    "\n",
    "    with open(outfile, \"w\", newline=\"\") as file:\n",
    "        writer = csv.writer(file, delimiter=\"\\t\")\n",
    "        writer.writerows(rows)\n",
    "\n",
    "output_proteins(train_proteins, training_file)\n",
    "output_proteins(test_proteins, test_file)"
   ]
  }
 ],
 "metadata": {
  "kernelspec": {
   "display_name": "Python 3",
   "language": "python",
   "name": "python3"
  },
  "language_info": {
   "codemirror_mode": {
    "name": "ipython",
    "version": 3
   },
   "file_extension": ".py",
   "mimetype": "text/x-python",
   "name": "python",
   "nbconvert_exporter": "python",
   "pygments_lexer": "ipython3",
   "version": "3.11.2"
  },
  "orig_nbformat": 4
 },
 "nbformat": 4,
 "nbformat_minor": 2
}
