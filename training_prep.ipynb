{
 "cells": [
  {
   "cell_type": "code",
   "execution_count": 1,
   "metadata": {},
   "outputs": [],
   "source": [
    "import json\n",
    "\n",
    "uniprot_file = \"data\\\\UniProt.json\"\n",
    "protein_info_file = \"data\\\\protein_information.json\"\n",
    "training_file = \"data\\\\f_covae_training.json\""
   ]
  },
  {
   "cell_type": "code",
   "execution_count": 2,
   "metadata": {},
   "outputs": [],
   "source": [
    "with open(protein_info_file, 'r') as file:\n",
    "    proteins_raw = json.load(file)\n",
    "\n",
    "proteins_prep = {}\n",
    "for id in proteins_raw.keys():\n",
    "    proteins_prep[id] = {}"
   ]
  },
  {
   "cell_type": "code",
   "execution_count": 3,
   "metadata": {},
   "outputs": [
    {
     "name": "stdout",
     "output_type": "stream",
     "text": [
      "all mf terms accounted for. 697 mf terms.\n",
      "all cc terms accounted for. 49 cc terms.\n",
      "all bp terms accounted for. 392 bp terms.\n"
     ]
    }
   ],
   "source": [
    "def get_go_terms():\n",
    "    global go_terms\n",
    "    go_ids = []\n",
    "    with open(uniprot_file, 'r') as file:\n",
    "        data = json.load(file)\n",
    "        results = data[\"results\"]\n",
    "\n",
    "    for result in results:\n",
    "        if \"uniProtKBCrossReferences\" in result:\n",
    "            references = result[\"uniProtKBCrossReferences\"]\n",
    "            for reference in references:\n",
    "                if reference[\"database\"] == \"GO\":\n",
    "                    go_id = reference[\"id\"]\n",
    "                    if go_id in go_ids:\n",
    "                        continue\n",
    "                    go_ids.append(go_id)\n",
    "                    go_term = reference[\"properties\"][0][\"value\"]\n",
    "                    match go_term[0]:\n",
    "                        case \"F\": go_terms[\"mf\"].append(go_id)\n",
    "                        case \"P\": go_terms[\"bp\"].append(go_id)\n",
    "                        case \"C\": go_terms[\"cc\"].append(go_id)\n",
    "    \n",
    "    #sorts go ids numerically within each aspect\n",
    "    for aspect in go_terms.keys():\n",
    "        go_terms[aspect].sort()\n",
    "\n",
    "def check_go_terms():\n",
    "    global go_terms\n",
    "    for aspect, terms in go_terms.items():\n",
    "        test_terms = []\n",
    "        for term in terms:\n",
    "            if term in test_terms: print(\"duplicate found\"); continue\n",
    "            test_terms.append(term)\n",
    "        if len(test_terms) == len(go_terms[aspect]): print(f\"all {aspect} terms accounted for. {len(test_terms)} {aspect} terms.\")\n",
    "        else: print(f\"something went wrong: {aspect} terms counted = {len(test_terms)}, {aspect} terms expected = {len(go_terms[aspect])}\")\n",
    "\n",
    "def onehot_encode_go():\n",
    "    global go_terms\n",
    "    global proteins_raw\n",
    "    global proteins_prep\n",
    "    \n",
    "    for aspect, terms in go_terms.items():\n",
    "        for p_id, p_data in proteins_raw.items():\n",
    "            p_encoded_go = [0] * len(go_terms[aspect])\n",
    "            for p_go in p_data[\"go_terms\"]:\n",
    "                if p_go[0] in terms:\n",
    "                    index = terms.index(p_go[0])\n",
    "                    p_encoded_go[index] = 1\n",
    "            proteins_prep[p_id][\"go_terms\"][aspect] = p_encoded_go\n",
    "\n",
    "go_terms = {\"mf\": [], \"cc\": [], \"bp\": []}\n",
    "for id in proteins_prep.keys():\n",
    "    proteins_prep[id][\"go_terms\"] = {}\n",
    "\n",
    "get_go_terms()\n",
    "check_go_terms()\n",
    "onehot_encode_go()"
   ]
  },
  {
   "cell_type": "code",
   "execution_count": null,
   "metadata": {},
   "outputs": [],
   "source": [
    "#test\n",
    "test_protein_terms = proteins_raw[\"A0A0X8BZN2\"][\"go_terms\"]\n",
    "for term in test_protein_terms:\n",
    "    if \"F:\" in term[1]: print(term[0]); print(go_terms[\"mf\"].index(term[0]))\n",
    "print()\n",
    "c = -1\n",
    "for num in proteins_prep[\"A0A0X8BZN2\"][\"go_terms\"][\"mf\"]:\n",
    "    c+=1\n",
    "    if num == 1: print(c)"
   ]
  }
 ],
 "metadata": {
  "kernelspec": {
   "display_name": "Python 3",
   "language": "python",
   "name": "python3"
  },
  "language_info": {
   "codemirror_mode": {
    "name": "ipython",
    "version": 3
   },
   "file_extension": ".py",
   "mimetype": "text/x-python",
   "name": "python",
   "nbconvert_exporter": "python",
   "pygments_lexer": "ipython3",
   "version": "3.11.2"
  },
  "orig_nbformat": 4
 },
 "nbformat": 4,
 "nbformat_minor": 2
}
