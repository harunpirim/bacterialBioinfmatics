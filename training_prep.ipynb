{
 "cells": [
  {
   "cell_type": "code",
   "execution_count": null,
   "metadata": {},
   "outputs": [],
   "source": [
    "import json\n",
    "import csv\n",
    "\n",
    "training_info_file = \"train_protein_information.json\"\n",
    "# testing_info_file = \"data\\\\test\\\\test_protein_information.json\"\n",
    "\n",
    "# hypothetical_output = \"data\\\\hypothetical_data.tsv\"\n",
    "training_output = \"training_data.tsv\""
   ]
  },
  {
   "cell_type": "code",
   "execution_count": null,
   "metadata": {},
   "outputs": [],
   "source": [
    "# #test/hypothetical protein prep\n",
    "# with open(testing_info_file, 'r') as file:\n",
    "#     test_proteins_raw = json.load(file)\n",
    "\n",
    "# test_proteins_prep = {}\n",
    "# for id in test_proteins_raw.keys():\n",
    "#     test_proteins_prep[id] = {}\n",
    "\n",
    "#training data protein prep\n",
    "with open(training_info_file, 'r') as file:\n",
    "    train_proteins_raw = json.load(file)\n",
    "\n",
    "train_proteins_prep = {}\n",
    "for id in train_proteins_raw.keys():\n",
    "    train_proteins_prep[id] = {}"
   ]
  },
  {
   "attachments": {},
   "cell_type": "markdown",
   "metadata": {},
   "source": [
    "Names"
   ]
  },
  {
   "cell_type": "code",
   "execution_count": null,
   "metadata": {},
   "outputs": [],
   "source": [
    "# for p_id, p_data in test_proteins_raw.items():\n",
    "#     test_proteins_prep[p_id][\"name\"] = p_data[\"name\"]\n",
    "#---\n",
    "for p_id, p_data in train_proteins_raw.items():\n",
    "    train_proteins_prep[p_id][\"name\"] = p_data[\"name\"]"
   ]
  },
  {
   "attachments": {},
   "cell_type": "markdown",
   "metadata": {},
   "source": [
    "GO Terms"
   ]
  },
  {
   "cell_type": "code",
   "execution_count": null,
   "metadata": {},
   "outputs": [],
   "source": [
    "go_list = [\n",
    "\"GO:0000049\",\n",
    "\"GO:0000287\",\n",
    "\"GO:0003677\",\n",
    "\"GO:0003723\",\n",
    "\"GO:0005506\",\n",
    "\"GO:0005524\",\n",
    "\"GO:0005525\",\n",
    "\"GO:0008270\",\n",
    "\"GO:0016887\",\n",
    "\"GO:0019843\",\n",
    "\"GO:0030170\",\n",
    "\"GO:0046872\",\n",
    "\"GO:0050661\",\n",
    "\"GO:0051287\",\n",
    "\"GO:0051539\",\n",
    "]\n"
   ]
  },
  {
   "cell_type": "code",
   "execution_count": null,
   "metadata": {},
   "outputs": [],
   "source": [
    "# for id in test_proteins_prep.keys():\n",
    "#     test_proteins_prep[id][\"go_terms\"] = {}\n",
    "\n",
    "\n",
    "#     for p_id, p_data in test_proteins_raw.items():\n",
    "#         p_encoded_go = [0] * len(go_list)\n",
    "#         for p_go in p_data[\"go_terms\"]:\n",
    "#             if p_go[0] in go_list:\n",
    "#                 index = go_list.index(p_go[0])\n",
    "#                 p_encoded_go[index] = 1\n",
    "#         test_proteins_prep[p_id][\"go_terms\"] = p_encoded_go\n",
    "#---\n",
    "for id in train_proteins_prep.keys():\n",
    "    train_proteins_prep[id][\"go_terms\"] = {}\n",
    "\n",
    "\n",
    "    for p_id, p_data in train_proteins_raw.items():\n",
    "        p_encoded_go = [0] * len(go_list)\n",
    "        for p_go in p_data[\"go_terms\"]:\n",
    "            if p_go[0] in go_list:\n",
    "                index = go_list.index(p_go[0])\n",
    "                p_encoded_go[index] = 1\n",
    "        train_proteins_prep[p_id][\"go_terms\"] = p_encoded_go\n",
    "\n"
   ]
  },
  {
   "attachments": {},
   "cell_type": "markdown",
   "metadata": {},
   "source": [
    "Subcellular Location Feature"
   ]
  },
  {
   "cell_type": "code",
   "execution_count": null,
   "metadata": {},
   "outputs": [],
   "source": [
    "loc_code = {\n",
    "    \"0\": [\"Cytoplasm\", \"Cytoplasmic side\", \"Cytoplasm, nucleoid\"],\n",
    "    \"1\": [\"Cell membrane\", \"Membrane\", \"Cell inner membrane\", \"Cell outer membrane\", \"Cytoplasmic side\"],\n",
    "    \"2\": [\"Cell wall\"],\n",
    "    \"3\": [\"Secreted\"],\n",
    "    \"4\": [\"Periplasm\", \"Periplasmic side\"],\n",
    "    \"5\": [\"Cell surface\"],\n",
    "    \"6\": [\"Cell envelope\"],\n",
    "    \"7\": [\"Chlorosome\"],\n",
    "    \"8\": [\"Cellular thylakoid membrane\"],\n",
    "    \"9\": [\"Cellular chromatopore membrane\"],\n",
    "    \"10\": [\"Single-pass membrane protein\"],\n",
    "    \"11\": [\"Multi-pass membrane protein\"],\n",
    "    \"12\": [\"Peripheral membrane protein\"]\n",
    "}\n",
    "\n",
    "# test_locs = {}\n",
    "# for p_id, p_data in test_proteins_raw.items():\n",
    "#     p_loc_ids = []\n",
    "#     for p_loc in p_data[\"subcell_locations\"]:\n",
    "#         for loc_id, loc_group in loc_code.items():\n",
    "#             if p_loc in loc_group:\n",
    "#                 p_loc_ids.append(loc_id)\n",
    "#     test_locs[p_id] = p_loc_ids\n",
    "#---\n",
    "train_locs = {}\n",
    "for p_id, p_data in train_proteins_raw.items():\n",
    "    p_loc_ids = []\n",
    "    for p_loc in p_data[\"subcell_locations\"]:\n",
    "        for loc_id, loc_group in loc_code.items():\n",
    "            if p_loc in loc_group:\n",
    "                p_loc_ids.append(loc_id)\n",
    "    train_locs[p_id] = p_loc_ids\n"
   ]
  },
  {
   "cell_type": "code",
   "execution_count": null,
   "metadata": {},
   "outputs": [],
   "source": [
    "# for p_id in test_proteins_raw.keys():\n",
    "#     p_encoded_locs = [0] * 13\n",
    "#     for p_loc in test_locs[p_id]:\n",
    "#         p_encoded_locs[int(p_loc)] = 1\n",
    "#     test_proteins_prep[p_id][\"subcell_locations\"] = p_encoded_locs\n",
    "#---\n",
    "for p_id in train_proteins_raw.keys():\n",
    "    p_encoded_locs = [0] * 13\n",
    "    for p_loc in train_locs[p_id]:\n",
    "        p_encoded_locs[int(p_loc)] = 1\n",
    "    train_proteins_prep[p_id][\"subcell_locations\"] = p_encoded_locs"
   ]
  },
  {
   "attachments": {},
   "cell_type": "markdown",
   "metadata": {},
   "source": [
    "Binding Preference"
   ]
  },
  {
   "cell_type": "code",
   "execution_count": null,
   "metadata": {},
   "outputs": [],
   "source": [
    "bp_code = {\n",
    "    \"0\": \"DNA/RNA-binding\",\n",
    "    \"1\": \"Nucleotide-binding\",\n",
    "    \"2\": \"Metal-binding\",\n",
    "}\n",
    "\n",
    "\n",
    "# test_bps = {}\n",
    "# for p_id, p_data in test_proteins_raw.items():\n",
    "#     p_bp_ids = []\n",
    "#     for p_bp in p_data[\"binding_preference\"]:\n",
    "#         for bp_id, bp_name in bp_code.items():\n",
    "#             if p_bp == bp_name:\n",
    "#                 p_bp_ids.append(bp_id)\n",
    "#     test_bps[p_id] = p_bp_ids\n",
    "#---\n",
    "train_bps = {}\n",
    "for p_id, p_data in train_proteins_raw.items():\n",
    "    p_bp_ids = []\n",
    "    for p_bp in p_data[\"binding_preference\"]:\n",
    "        for bp_id, bp_name in bp_code.items():\n",
    "            if p_bp == bp_name:\n",
    "                p_bp_ids.append(bp_id)\n",
    "    train_bps[p_id] = p_bp_ids"
   ]
  },
  {
   "cell_type": "code",
   "execution_count": null,
   "metadata": {},
   "outputs": [],
   "source": [
    "# for p_id in test_proteins_raw.keys():\n",
    "#     p_encoded_bps = [0] * 3\n",
    "#     for p_bp in test_bps[p_id]:\n",
    "#         p_encoded_bps[int(p_bp)] = 1\n",
    "#     test_proteins_prep[p_id][\"binding_preference\"] = p_encoded_bps\n",
    "#---\n",
    "for p_id in train_proteins_raw.keys():\n",
    "    p_encoded_bps = [0] * 3\n",
    "    for p_bp in train_bps[p_id]:\n",
    "        p_encoded_bps[int(p_bp)] = 1\n",
    "    train_proteins_prep[p_id][\"binding_preference\"] = p_encoded_bps"
   ]
  },
  {
   "attachments": {},
   "cell_type": "markdown",
   "metadata": {},
   "source": [
    "Simple Features"
   ]
  },
  {
   "cell_type": "code",
   "execution_count": null,
   "metadata": {},
   "outputs": [],
   "source": [
    "features = [\"length\", \"m_weight\", \"instab_index\", \"isoele_point\", \"gravy\", \"sec_sruct_frac\", \"ext_coeff\", \"transmembrane\"]\n",
    "# for p_id, p_data in test_proteins_raw.items():\n",
    "#     for feature in features:\n",
    "#         test_proteins_prep[p_id][feature] = p_data[feature]\n",
    "#---\n",
    "for p_id, p_data in train_proteins_raw.items():\n",
    "    for feature in features:\n",
    "        train_proteins_prep[p_id][feature] = p_data[feature]\n"
   ]
  },
  {
   "attachments": {},
   "cell_type": "markdown",
   "metadata": {},
   "source": [
    "Amino Count"
   ]
  },
  {
   "cell_type": "code",
   "execution_count": null,
   "metadata": {},
   "outputs": [],
   "source": [
    "# for p_id, p_data in test_proteins_raw.items():\n",
    "#     acids = []\n",
    "#     for acid in p_data[\"amino_count\"].values():\n",
    "#         acids.append(acid)\n",
    "#     test_proteins_prep[p_id][\"amino_count\"] = acids\n",
    "#---\n",
    "for p_id, p_data in train_proteins_raw.items():\n",
    "    acids = []\n",
    "    for acid in p_data[\"amino_count\"].values():\n",
    "        acids.append(acid)\n",
    "    train_proteins_prep[p_id][\"amino_count\"] = acids"
   ]
  },
  {
   "attachments": {},
   "cell_type": "markdown",
   "metadata": {},
   "source": [
    "iFeature"
   ]
  },
  {
   "cell_type": "code",
   "execution_count": null,
   "metadata": {},
   "outputs": [],
   "source": [
    "# for p_id, p_data in test_proteins_raw.items():\n",
    "#     for feature in [\"dpc\", \"paac\", \"ctdc\", \"ctdt\", \"ctdd\", \"ctriad\", \"gaac\", \"moran\"]:\n",
    "#         values = []\n",
    "#         for value in p_data[feature].values():\n",
    "#             values.append(value)\n",
    "#         test_proteins_prep[p_id][feature] = values\n",
    "#---\n",
    "for p_id, p_data in train_proteins_raw.items():\n",
    "    for feature in [\"dpc\", \"paac\", \"ctdc\", \"ctdt\", \"ctdd\", \"ctriad\", \"gaac\", \"moran\"]:\n",
    "        values = []\n",
    "        for value in p_data[feature].values():\n",
    "            values.append(value)\n",
    "        train_proteins_prep[p_id][feature] = values"
   ]
  },
  {
   "attachments": {},
   "cell_type": "markdown",
   "metadata": {},
   "source": [
    "Extract hypotheticals "
   ]
  },
  {
   "cell_type": "code",
   "execution_count": null,
   "metadata": {},
   "outputs": [],
   "source": [
    "# hypothetical_proteins = {}\n",
    "\n",
    "# for id, data in test_proteins_prep.items():\n",
    "#     if \"hypothetical protein\" in data[\"name\"]:\n",
    "#         hypothetical_proteins[id] = data"
   ]
  },
  {
   "attachments": {},
   "cell_type": "markdown",
   "metadata": {},
   "source": [
    "OUTPUT"
   ]
  },
  {
   "cell_type": "code",
   "execution_count": null,
   "metadata": {},
   "outputs": [],
   "source": [
    "def output_proteins(proteins, outfile):\n",
    "    rows = []\n",
    "\n",
    "    header = [\"protein_id\"]\n",
    "    r1 = proteins[next(iter(proteins))]\n",
    "    for feature, values in r1.items():\n",
    "        if feature == \"go_terms\": continue\n",
    "        if type(values) == list:\n",
    "            for i in range(0,len(values)):\n",
    "                header.append(f\"{feature}{i}\")\n",
    "        else:\n",
    "            header.append(feature)\n",
    "    for term in go_list:\n",
    "        header.append(term)\n",
    "    rows.append(header)\n",
    "\n",
    "\n",
    "    for p_id, p_data in proteins.items():\n",
    "        row = [p_id]\n",
    "        for feature, value in p_data.items():\n",
    "            if feature == \"go_terms\": continue\n",
    "            if type(value) == list:\n",
    "                for i in range(0,len(value)):\n",
    "                    row.append(value[i])\n",
    "            else:\n",
    "                row.append(value)\n",
    "        for value in p_data[\"go_terms\"]:\n",
    "            row.append(value)\n",
    "        rows.append(row)\n",
    "\n",
    "    with open(outfile, \"w\", newline=\"\") as file:\n",
    "        writer = csv.writer(file, delimiter=\"\\t\")\n",
    "        writer.writerows(rows)\n",
    "\n",
    "# output_proteins(hypothetical_proteins, hypothetical_output)\n",
    "output_proteins(train_proteins_prep, training_output)"
   ]
  }
 ],
 "metadata": {
  "kernelspec": {
   "display_name": "Python 3",
   "language": "python",
   "name": "python3"
  },
  "language_info": {
   "codemirror_mode": {
    "name": "ipython",
    "version": 3
   },
   "file_extension": ".py",
   "mimetype": "text/x-python",
   "name": "python",
   "nbconvert_exporter": "python",
   "pygments_lexer": "ipython3",
   "version": "3.11.2"
  },
  "orig_nbformat": 4
 },
 "nbformat": 4,
 "nbformat_minor": 2
}
