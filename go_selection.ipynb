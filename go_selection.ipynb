{
 "cells": [
  {
   "cell_type": "markdown",
   "metadata": {},
   "source": [
    "selecting go terms for labels"
   ]
  },
  {
   "cell_type": "code",
   "execution_count": 2,
   "metadata": {},
   "outputs": [],
   "source": [
    "import json\n",
    "\n",
    "train_file = \"data\\\\train\\\\train_protein_information.json\"\n",
    "\n",
    "with open(train_file, 'r') as file:\n",
    "        train_results = json.load(file)"
   ]
  },
  {
   "cell_type": "code",
   "execution_count": 3,
   "metadata": {},
   "outputs": [],
   "source": [
    "dataset = []\n",
    "for protein in train_results.values():\n",
    "    go_terms = []    \n",
    "    for term in protein[\"go_terms\"]:\n",
    "        if \"F:\" in term[1]:\n",
    "            go_terms.append(term[0])\n",
    "    dataset.append(go_terms)"
   ]
  },
  {
   "cell_type": "code",
   "execution_count": 5,
   "metadata": {},
   "outputs": [
    {
     "name": "stdout",
     "output_type": "stream",
     "text": [
      "     support                  itemsets\n",
      "0   0.054997              (GO:0000049)\n",
      "1   0.136767              (GO:0000287)\n",
      "2   0.047611              (GO:0003677)\n",
      "3   0.027249              (GO:0003723)\n",
      "4   0.021401              (GO:0005506)\n",
      "5   0.337175              (GO:0005524)\n",
      "6   0.038470              (GO:0005525)\n",
      "7   0.073864              (GO:0008270)\n",
      "8   0.029741              (GO:0016887)\n",
      "9   0.022094              (GO:0019843)\n",
      "10  0.046484              (GO:0030170)\n",
      "11  0.205952              (GO:0046872)\n",
      "12  0.025192              (GO:0050661)\n",
      "13  0.028874              (GO:0051287)\n",
      "14  0.062102              (GO:0051539)\n",
      "15  0.038448  (GO:0000049, GO:0005524)\n",
      "16  0.043235  (GO:0005524, GO:0000287)\n",
      "17  0.021899  (GO:0003677, GO:0005524)\n",
      "18  0.033380  (GO:0005524, GO:0008270)\n",
      "19  0.029741  (GO:0016887, GO:0005524)\n",
      "20  0.075748  (GO:0005524, GO:0046872)\n",
      "21  0.037452  (GO:0051539, GO:0046872)\n"
     ]
    }
   ],
   "source": [
    "from mlxtend.preprocessing import TransactionEncoder\n",
    "from mlxtend.frequent_patterns import apriori\n",
    "import pandas as pd\n",
    "pd.options.display.max_rows = 4000\n",
    "\n",
    "# Convert the dataset into a binary format\n",
    "te = TransactionEncoder()\n",
    "te_ary = te.fit(dataset).transform(dataset)\n",
    "df = pd.DataFrame(te_ary, columns=te.columns_)\n",
    "\n",
    "# Set minimum support threshold (e.g., 0.01 for 1%)\n",
    "min_support = 0.02\n",
    "\n",
    "# Generate frequent itemsets\n",
    "frequent_itemsets = apriori(df, min_support=min_support, use_colnames=True)\n",
    "\n",
    "# Print the frequent itemsets\n",
    "print(frequent_itemsets)"
   ]
  },
  {
   "cell_type": "code",
   "execution_count": 6,
   "metadata": {},
   "outputs": [
    {
     "name": "stdout",
     "output_type": "stream",
     "text": [
      "32822\n"
     ]
    }
   ],
   "source": [
    "selected_go = [\n",
    "\"GO:0000049\",\n",
    "\"GO:0000287\",\n",
    "\"GO:0003677\",\n",
    "\"GO:0003723\",\n",
    "\"GO:0005506\",\n",
    "\"GO:0005524\",\n",
    "\"GO:0005525\",\n",
    "\"GO:0008270\",\n",
    "\"GO:0016887\",\n",
    "\"GO:0019843\",\n",
    "\"GO:0030170\",\n",
    "\"GO:0046872\",\n",
    "\"GO:0050661\",\n",
    "\"GO:0051287\",\n",
    "\"GO:0051539\",\n",
    "]\n",
    "\n",
    "count_good_proteins = 0\n",
    "for protein in dataset:\n",
    "    flag = False\n",
    "    for term in protein:\n",
    "        if term in selected_go:\n",
    "            flag = True\n",
    "    if flag == True:\n",
    "        count_good_proteins +=1\n",
    "\n",
    "print(count_good_proteins)"
   ]
  }
 ],
 "metadata": {
  "kernelspec": {
   "display_name": "Python 3",
   "language": "python",
   "name": "python3"
  },
  "language_info": {
   "codemirror_mode": {
    "name": "ipython",
    "version": 3
   },
   "file_extension": ".py",
   "mimetype": "text/x-python",
   "name": "python",
   "nbconvert_exporter": "python",
   "pygments_lexer": "ipython3",
   "version": "3.11.2"
  },
  "orig_nbformat": 4
 },
 "nbformat": 4,
 "nbformat_minor": 2
}
